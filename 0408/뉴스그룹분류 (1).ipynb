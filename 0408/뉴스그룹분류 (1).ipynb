{
  "nbformat": 4,
  "nbformat_minor": 0,
  "metadata": {
    "colab": {
      "name": "뉴스그룹분류.ipynb",
      "private_outputs": true,
      "provenance": []
    },
    "kernelspec": {
      "name": "python3",
      "display_name": "Python 3"
    },
    "language_info": {
      "name": "python"
    }
  },
  "cells": [
    {
      "cell_type": "markdown",
      "source": [
        "20개의 카테고리로 구분되는 영어 뉴스 데이터셋을 이용해 뉴스 그룹을 분류"
      ],
      "metadata": {
        "id": "O-awfCFZ-8CA"
      }
    },
    {
      "cell_type": "code",
      "execution_count": null,
      "metadata": {
        "id": "NljDZTTshq9_"
      },
      "outputs": [],
      "source": [
        "from google.colab import drive\n",
        "drive.mount('/content/drive')"
      ]
    },
    {
      "cell_type": "code",
      "source": [
        "import pandas as pd\n",
        "import numpy as np\n",
        "import matplotlib.pyplot as plt\n",
        "%matplotlib inline"
      ],
      "metadata": {
        "id": "NMrDAv4Bj8S0"
      },
      "execution_count": null,
      "outputs": []
    },
    {
      "cell_type": "code",
      "source": [
        "train = pd.read_csv('/content/drive/MyDrive/news/train.csv')\n",
        "test = pd.read_csv('/content/drive/MyDrive/news/test.csv')"
      ],
      "metadata": {
        "id": "8vVrkfRYjovx"
      },
      "execution_count": null,
      "outputs": []
    },
    {
      "cell_type": "code",
      "source": [
        "train.head()"
      ],
      "metadata": {
        "id": "9mA_pbHNkLEY"
      },
      "execution_count": null,
      "outputs": []
    },
    {
      "cell_type": "code",
      "source": [
        "test.head()"
      ],
      "metadata": {
        "id": "P5WOan9RkUcM"
      },
      "execution_count": null,
      "outputs": []
    },
    {
      "cell_type": "code",
      "source": [
        "temp = train.target.unique()\n",
        "temp"
      ],
      "metadata": {
        "id": "MP3xz2hMkWDz"
      },
      "execution_count": null,
      "outputs": []
    },
    {
      "cell_type": "code",
      "source": [
        "np.sort(temp)"
      ],
      "metadata": {
        "id": "Bbu8JFt2kt7A"
      },
      "execution_count": null,
      "outputs": []
    },
    {
      "cell_type": "code",
      "source": [
        "# 결측치 존재 여부를 확인해주는 함수\n",
        "def check_missing_col(dataframe):\n",
        "    missing_col = []\n",
        "    counted_missing_col = 0\n",
        "    for i, col in enumerate(dataframe.columns):\n",
        "        missing_values = sum(dataframe[col].isna())\n",
        "        is_missing = True if missing_values >= 1 else False\n",
        "        if is_missing:\n",
        "            counted_missing_col += 1\n",
        "            print(f'결측치가 있는 컬럼은: {col}입니다')\n",
        "            print(f'해당 컬럼에 총 {missing_values}개의 결측치가 존재합니다.')\n",
        "            missing_col.append([col, dataframe[col].dtype])\n",
        "    if counted_missing_col == 0:\n",
        "        print('결측치가 존재하지 않습니다')\n",
        "    return missing_col\n",
        "\n",
        "missing_col = check_missing_col(train)"
      ],
      "metadata": {
        "id": "6WlmfX5mkxaX"
      },
      "execution_count": null,
      "outputs": []
    },
    {
      "cell_type": "code",
      "source": [
        "train.info()"
      ],
      "metadata": {
        "id": "3zGe8tepk3WH"
      },
      "execution_count": null,
      "outputs": []
    },
    {
      "cell_type": "code",
      "source": [
        "train.text"
      ],
      "metadata": {
        "id": "sxq318DVlcCj"
      },
      "execution_count": null,
      "outputs": []
    },
    {
      "cell_type": "code",
      "source": [
        "#불필요한 문자 정리\n",
        "import re \n",
        "\n",
        "def clean_text(texts): \n",
        "  corpus = [] \n",
        "  for i in range(0, len(texts)): \n",
        "\n",
        "    review = re.sub(r'[@%\\\\*=()/~#&\\+á?\\xc3\\xa1\\-\\|\\.\\:\\;\\!\\-\\,\\_\\~\\$\\'\\\"\\n\\]\\[\\>]', '',texts[i]) #@%*=()/+ 와 같은 문장부호 제거\n",
        "    review = re.sub(r'\\d+','', review)#숫자 제거\n",
        "    review = review.lower() #소문자 변환\n",
        "    review = re.sub(r'\\s+', ' ', review) #extra space 제거\n",
        "    review = re.sub(r'<[^>]+>','',review) #Html tags 제거\n",
        "    review = re.sub(r'\\s+', ' ', review) #spaces 제거\n",
        "    review = re.sub(r\"^\\s+\", '', review) #space from start 제거\n",
        "    review = re.sub(r'\\s+$', '', review) #space from the end 제거\n",
        "    review = re.sub(r'_', ' ', review) #space from the end 제거\n",
        "    corpus.append(review) \n",
        "  \n",
        "  return corpus"
      ],
      "metadata": {
        "id": "sdGnfTGdlhQY"
      },
      "execution_count": null,
      "outputs": []
    },
    {
      "cell_type": "code",
      "source": [
        "temp = clean_text(train['text'])\n",
        "train['text'] = temp\n",
        "train.head()"
      ],
      "metadata": {
        "id": "YMX84szillUA"
      },
      "execution_count": null,
      "outputs": []
    },
    {
      "cell_type": "code",
      "source": [
        "val_count = train['target'].value_counts() #유니크값의 개수 확인\n",
        "for i in range(0,20):\n",
        "    print(f'리벨 {i}인 리뷰 개수:',val_count[i])"
      ],
      "metadata": {
        "id": "mcpxGbAjl5Cq"
      },
      "execution_count": null,
      "outputs": []
    },
    {
      "cell_type": "code",
      "source": [
        "#데이터 시각화\n",
        "%matplotlib inline\n",
        "plt.style.use(\"ggplot\")\n",
        "\n",
        "# 히스토그램 을 사용해서 데이터의 분포를 살펴봅니다.\n",
        "feature = train['target']\n",
        "\n",
        "plt.figure(figsize=(10,7.5)) # 그래프 이미지 크기 설정\n",
        "plt.suptitle(\"Bar Plot\", fontsize=30) # 부제목과 폰트 크기 설정\n",
        "\n",
        "plt.title('label', fontsize=20) # 제목과 폰트 크기 설정\n",
        "temp = feature.value_counts() # feature 변수의 변수별 개수 계산\n",
        "plt.bar(temp.keys(), temp.values, width=0.5, color='b', alpha=0.5) # 막대그래프 생성\n",
        "plt.xticks(temp.keys(), fontsize=12) # x축 값, 폰트 크기 설정\n",
        "plt.tight_layout(rect=[0, 0.03, 1, 0.95]) # 레이아웃 설정\n",
        "plt.show() # 그래프 나타내기"
      ],
      "metadata": {
        "id": "4crDD41aJkGu"
      },
      "execution_count": null,
      "outputs": []
    },
    {
      "cell_type": "markdown",
      "source": [
        "20가지 라벨 모두 300개가 넘고 19이 가장 적음"
      ],
      "metadata": {
        "id": "c6dmvojELiiH"
      }
    },
    {
      "cell_type": "code",
      "source": [
        "str_len_mean = np.mean(train['text'].str.len()) # 리뷰 길이의 평균값 계산\n",
        "print('뉴스의 평균 길이 :',round(str_len_mean,0))"
      ],
      "metadata": {
        "id": "k8XWDyGtKlgs"
      },
      "execution_count": null,
      "outputs": []
    },
    {
      "cell_type": "code",
      "source": [
        "# 데이터 필터링을 위한 마스크 설정\n",
        "for i in range(0, 20):\n",
        "  globals()['mask_{}'.format(i)] = (train.target == i)\n",
        "\n",
        "# 전체 및 그룹 집합을 설정합니다.\n",
        "df_train = train.text.copy() # 전체 train 데이터\n",
        "\n",
        "for i in range(0, 20):\n",
        "  globals()['df_{}'.format(i)] = train.loc[globals()['mask_{}'.format(i)],:].text # 20가지 라벨 각각에 해당하는 데이터를 df0~19로 할당\n",
        "\n",
        "# 스무가지로 나뉜 집합을 리스트로 묶어줍니다.\n",
        "compare = [df_0, df_1, df_2, df_3, df_4, df_5, \n",
        "           df_6, df_7, df_8, df_9, df_10, df_11,\n",
        "           df_12, df_13, df_14, df_15, df_16, df_17,\n",
        "           df_18, df_19]"
      ],
      "metadata": {
        "id": "QA9vtg_zL4yX"
      },
      "execution_count": null,
      "outputs": []
    },
    {
      "cell_type": "code",
      "source": [
        "df_0"
      ],
      "metadata": {
        "id": "z_YQi063L-4d"
      },
      "execution_count": null,
      "outputs": []
    },
    {
      "cell_type": "code",
      "source": [
        "# 히스토그램 을 사용해서 데이터의 분포를 살펴봅니다.\n",
        "plt.figure(figsize=(40,20))\n",
        "plt.suptitle(\"Histogram: news length\", fontsize=40)\n",
        "name = ['alt.atheism',\n",
        "        'comp.graphics',\n",
        "        'comp.os.ms-windows.misc',\n",
        "        'comp.sys.ibm.pc.hardware',\n",
        "        'comp.sys.mac.hardware',\n",
        "        'comp.windows.x',\n",
        "        'misc.forsale',\n",
        "        'rec.autos',\n",
        "        'rec.motorcycles',\n",
        "        'rec.sport.baseball',\n",
        "        'rec.sport.hockey',\n",
        "        'sci.crypt',\n",
        "        'sci.electronics',\n",
        "        'sci.med',\n",
        "        'sci.space',\n",
        "        'soc.religion.christian',\n",
        "        'talk.politics.guns',\n",
        "        'talk.politics.mideast',\n",
        "        'talk.politics.misc',\n",
        "        'talk.religion.misc'] # 제목으로 사용할 문자열 (라벨의 실제 이름)\n",
        "\n",
        "for i in range(len(compare)):\n",
        "    text = compare[i]\n",
        "    string_len = [len(x) for x in text]    \n",
        "    plt.subplot(5,4,i+1) # 행 개수/ 열 개수/ 해당 그래프 표시 순서\n",
        "    plt.title(name[i], fontsize=20)\n",
        "    plt.axis([0, 50000, 0, 10])  #x축 시작, 끝 / y축 시작, 끝\n",
        "    plt.hist(string_len, alpha=0.5, color='orange') # 히스토그램 생성, alpha: 그래프의 투명도 조절\n",
        "    \n",
        "plt.tight_layout(rect=[0, 0.03, 1, 0.95])\n",
        "plt.show()"
      ],
      "metadata": {
        "id": "E7hNubRUMDG3"
      },
      "execution_count": null,
      "outputs": []
    },
    {
      "cell_type": "code",
      "source": [
        "from wordcloud import WordCloud, ImageColorGenerator\n",
        "from PIL import Image\n",
        "import nltk # 영어에 대한 전처리\n",
        "import pickle\n",
        "from nltk.corpus import stopwords\n",
        "from os import path\n",
        "nltk.download('all')"
      ],
      "metadata": {
        "id": "I-2pr5W1MKtp"
      },
      "execution_count": null,
      "outputs": []
    },
    {
      "cell_type": "code",
      "source": [
        "def df2str(df):\n",
        "    \n",
        "    s = [s for s in df]\n",
        "    document = \"\"\n",
        "    for i in range(len(s)):\n",
        "        document += s[i]\n",
        "    return document"
      ],
      "metadata": {
        "id": "dHfV6VLtOOQh"
      },
      "execution_count": null,
      "outputs": []
    },
    {
      "cell_type": "code",
      "source": [
        "# 워드 토큰화 :  nltk의 word_tokenize 메소드를 이용하여 토큰화\n",
        "word_tokens = nltk.word_tokenize(df2str(df_0))"
      ],
      "metadata": {
        "id": "sSEhf46nOtSz"
      },
      "execution_count": null,
      "outputs": []
    },
    {
      "cell_type": "code",
      "source": [
        "# nltk의 pos_tag 메소드를 이용하여 품사분리를 진행\n",
        "# pos_tag()의 입력값으로는 단어의 리스트가 들어가야 한다.\n",
        "tokens_pos = nltk.pos_tag(word_tokens)"
      ],
      "metadata": {
        "id": "kUiEyS5QOz9v"
      },
      "execution_count": null,
      "outputs": []
    },
    {
      "cell_type": "code",
      "source": [
        "# 명사만 추출\n",
        "# 명사는 NN을 포함하고 있음을 알 수 있음\n",
        "NN_words = []\n",
        "for word, pos in tokens_pos:\n",
        "    if 'NN' in pos:\n",
        "        NN_words.append(word)"
      ],
      "metadata": {
        "id": "Bgf_GNZgO5sX"
      },
      "execution_count": null,
      "outputs": []
    },
    {
      "cell_type": "code",
      "source": [
        "# 품사 원형 찾기\n",
        "# nltk에서 제공하는 WordNetLemmatizer() 메소드\n",
        "# 명사의 경우 보통 복수 -> 단수 형태로 변형\n",
        "wlem = nltk.WordNetLemmatizer()\n",
        "lemmatized_words = []\n",
        "for word in NN_words:\n",
        "    new_word = wlem.lemmatize(word)\n",
        "    lemmatized_words.append(new_word)"
      ],
      "metadata": {
        "id": "gqlQWukLPCQC"
      },
      "execution_count": null,
      "outputs": []
    },
    {
      "cell_type": "code",
      "source": [
        "# 불용어 처리\n",
        "# nltk에서 제공하는 불용어 기본 사전 이용하여 워드클라우드에 사용하지 않을 단어를 제거\n",
        "\n",
        "stopwords_list = stopwords.words('english') #nltk에서 제공하는 불용어사전 이용\n",
        "#print('stopwords: ', stopwords_list)\n",
        "unique_NN_words = set(lemmatized_words)\n",
        "final_NN_words = lemmatized_words\n",
        "\n",
        "# 불용어 제거\n",
        "for word in unique_NN_words:\n",
        "    if word in stopwords_list:\n",
        "        while word in final_NN_words: final_NN_words.remove(word)"
      ],
      "metadata": {
        "id": "mc9w3hT_PM7V"
      },
      "execution_count": null,
      "outputs": []
    },
    {
      "cell_type": "code",
      "source": [
        "# 빈도분석\n",
        "# 빈도수 상위 10개의 단어를 출력\n",
        "from collections import Counter\n",
        "c = Counter(final_NN_words)\n",
        "k = 10"
      ],
      "metadata": {
        "id": "p-4eTH3EPUR6"
      },
      "execution_count": null,
      "outputs": []
    },
    {
      "cell_type": "code",
      "source": [
        "c.most_common(k) # 빈도수 기준 상위 k개 단어 출력"
      ],
      "metadata": {
        "id": "e72lGbA4Pg7W"
      },
      "execution_count": null,
      "outputs": []
    },
    {
      "cell_type": "code",
      "source": [
        "#시각화\n",
        "top_10 = c.most_common(k) # 추출한 명사 중 상위 10개\n",
        "keys = [top_10[i][0] for i in range(len(top_10))]\n",
        "values = [top_10[i][1] for i in range(len(top_10))]\n",
        "\n",
        "plt.figure(figsize=(10,7.5))\n",
        "plt.suptitle(\"Bar Plot\", fontsize=30)\n",
        "plt.title('total reviews', fontsize=20)\n",
        "plt.bar(keys, values, width=0.5, color='b', alpha=0.5)\n",
        "plt.tight_layout(rect=[0, 0.03, 1, 0.95])\n",
        "plt.show()"
      ],
      "metadata": {
        "id": "6G2Zet2nPiiu"
      },
      "execution_count": null,
      "outputs": []
    },
    {
      "cell_type": "code",
      "source": [
        "# 워드클라우드\n",
        "\n",
        "noun_text = ''\n",
        "for word in final_NN_words:\n",
        "    noun_text = noun_text +' '+word\n",
        "\n",
        "wordcloud = WordCloud(max_font_size=50, #가장 큰 폰트 크기 제한\n",
        "                      width=500, #너비\n",
        "                      height=300, #높이\n",
        "                      background_color='white', #배경 색상\n",
        "                      relative_scaling=.2 #상대적인 크기\n",
        "                      ).generate(noun_text)\n",
        "\n",
        "plt.figure(figsize=(20,10))\n",
        "plt.imshow(wordcloud, interpolation='bilinear')\n",
        "plt.axis(\"off\")\n",
        "plt.show()"
      ],
      "metadata": {
        "id": "yO2URR37Pm6v"
      },
      "execution_count": null,
      "outputs": []
    },
    {
      "cell_type": "markdown",
      "source": [
        "0번 뉴스 그룹 'alt.atheism'의 키워드가 다음과 같이 나와있음\n",
        "\n",
        "'god', 'people', 'argument', 'time' 등 단어가 유즈넷 뉴스의 atheism (무신론) 그룹에서 많이 언급"
      ],
      "metadata": {
        "id": "0ahneUaBP59n"
      }
    },
    {
      "cell_type": "markdown",
      "source": [
        "\n",
        "*   임베딩(word embedding): 컴퓨터가 계산을 하기 위해서는 먼저 문장을 숫자형 값으로 바꾼 다음 계산\n",
        "*   CountVectorizer: 입력된 문장을 토큰화(Tokenize)하여 토큰의 등장 빈도 벡터로 바꿔주는 기법\n",
        "*  토큰화란 문장를 의미가 있는 최소의 단위로 쪼개는 것\n",
        "\n",
        "\n",
        "\n",
        "\n",
        "\n",
        "\n",
        "\n",
        "\n",
        "\n"
      ],
      "metadata": {
        "id": "83xaFNlSQ542"
      }
    },
    {
      "cell_type": "code",
      "source": [
        "# CountVectorizer 사용하여 띄어쓰기 기준으로 토큰화\n",
        "from sklearn.feature_extraction.text import CountVectorizer #sklearn 패키지의 CountVectorizer import\n",
        "\n",
        "sample_vectorizer = CountVectorizer() #객체 생성"
      ],
      "metadata": {
        "id": "kbHVP9etQO6E"
      },
      "execution_count": null,
      "outputs": []
    },
    {
      "cell_type": "code",
      "source": [
        "# CountVectorizer 의 경우 단어의 출현 빈도를 기준으로 문장을 벡터(=숫자의 집합)로 바꿔준다\n",
        "sample_text1 = [\"hello, my name is dacon and I am a data scientist!\"]\n",
        "\n",
        "sample_vectorizer.fit(sample_text1) #CountVectorizer 학습"
      ],
      "metadata": {
        "id": "1UKgoS-kVFW9"
      },
      "execution_count": null,
      "outputs": []
    },
    {
      "cell_type": "code",
      "source": [
        "print(sample_vectorizer.vocabulary_) #Vocabulary"
      ],
      "metadata": {
        "id": "iYQGpl6nVQnq"
      },
      "execution_count": null,
      "outputs": []
    },
    {
      "cell_type": "markdown",
      "source": [
        "sklearn의 CountVectorizer는 \"I\", \"a\" 와 같이 길이가 2 이하인 단어들과, \",\", !\" 같은 특수 문자를 의미가 적다고 판단하여 제외"
      ],
      "metadata": {
        "id": "wX1VnnGXVoKv"
      }
    },
    {
      "cell_type": "code",
      "source": [
        "# sample_vectorizer 를 활용해 벡터로 transform\n",
        "\n",
        "sample_text2 = [\"you are learning dacon data science\"]\n",
        "\n",
        "sample_vector = sample_vectorizer.transform(sample_text2)\n",
        "print(sample_vector.toarray())"
      ],
      "metadata": {
        "id": "hRe3bJlpVe0t"
      },
      "execution_count": null,
      "outputs": []
    },
    {
      "cell_type": "markdown",
      "source": [
        "단어들의 출현 빈도로 이루어진 크기 9의 백터가 출력되었습니다. 이 벡터를 BoW 라고 합니다.\n",
        "\n",
        "BoW 란 \"Bag of Words\" 의 약자로 CountVectorizer 로 변환된 단어의 집합을 말합니다\n",
        "\n",
        "특정 단어가 N번 등장했다면, 그 특정 단어가 N개가 들어있습니다.\n",
        "\n",
        "또한 단어를 섞었기 때문에 더 이상 단어의 순서는 중요하지 않습니다.\n",
        "\n",
        "BoW를 만드는 과정은 이렇게 두 가지 과정이 있습니다.\n",
        "\n",
        "(1) 우선 각 단어에 고유한 정수 인덱스를 부여합니다.\n",
        "\n",
        "(2) 각 인덱스의 위치에 단어 토큰의 등장 횟수를 기록한 벡터를 만듭니다.\n",
        "\n",
        "sample_text2 문장 내에는 \"dacon\", \"data\" 단어가 각 1번 씩 출현했습니다.\n",
        "\n",
        "따라서 \"dacon\" 과 \"data\" 에 해당하는 인덱스의 값이 1로 표시되어 있고, 등장하지 않은 단어들은 0으로 표시되어 있습니다."
      ],
      "metadata": {
        "id": "GNyf3WHsWTK6"
      }
    },
    {
      "cell_type": "code",
      "source": [
        "sample_text3 = [\"you are learning dacon data science with news data\"]\n",
        "\n",
        "sample_vector2 = sample_vectorizer.transform(sample_text3)\n",
        "print(sample_vector2.toarray())"
      ],
      "metadata": {
        "id": "aay9NeHCWKch"
      },
      "execution_count": null,
      "outputs": []
    },
    {
      "cell_type": "markdown",
      "source": [
        "\"you are learning dacon data science with news data\" 문장에는 \"dacon\" 단어가 1번, \"data\" 단어가 2번 출현했습니다.\n",
        "\n",
        "따라서 \"dacon\" 단어에 해당하는 인덱스에는 1의 값이, \"data\" 에 해당하는 인덱스에는 2의 값이 할당되었습니다.\n",
        "\n",
        "CountVectorizer 는 위와 같이 작동합니다.\n",
        "\n",
        "이해를 위해 CountVectorizer 를 하나의 문장을 사용해 학습 시켰기에 생성된 Vocab과 BoW 의 크기는 모두 9 였습니다.\n",
        "\n",
        "하지만 더 큰 데이터를 사용해 CountVectorizer 를 학습시킨다면 Vocab과 Bow 의 크기는 더욱 증가할 것입니다.\n",
        "\n",
        "이처럼 BoW는 각 단어가 등장한 횟수를 수치화하는 텍스트 표현 방법이기 때문에,\n",
        "\n",
        "주로 어떤 단어가 얼마나 등장했는지를 기준으로 문서가 어떤 성격의 문서인지를 판단하는 작업에 쓰입니다.\n",
        "\n",
        "즉, 분류 문제나 여러 문서 간의 유사도를 구하는 문제에 주로 쓰입니다."
      ],
      "metadata": {
        "id": "4GAgYlEDWpDA"
      }
    },
    {
      "cell_type": "code",
      "source": [
        "X = train.text #training 데이터에서 문서 추출\n",
        "y = train.target #training 데이터에서 라벨 추출"
      ],
      "metadata": {
        "id": "KrmVm0HGXBAZ"
      },
      "execution_count": null,
      "outputs": []
    },
    {
      "cell_type": "code",
      "source": [
        "train.target"
      ],
      "metadata": {
        "id": "njvWfkGlXNuA"
      },
      "execution_count": null,
      "outputs": []
    },
    {
      "cell_type": "code",
      "source": [
        "X"
      ],
      "metadata": {
        "id": "2nnYsqxBXG3v"
      },
      "execution_count": null,
      "outputs": []
    },
    {
      "cell_type": "code",
      "source": [
        "vectorizer = CountVectorizer() #countvectorizer 생성\n",
        "vectorizer.fit(X) #countvectorizer 학습\n",
        "X = vectorizer.transform(X) #transform"
      ],
      "metadata": {
        "id": "zkCTmqiGWnKU"
      },
      "execution_count": null,
      "outputs": []
    },
    {
      "cell_type": "code",
      "source": [
        "vectorizer.inverse_transform(X[0]) #역변환하여 첫번째 문장의 단어들 확인"
      ],
      "metadata": {
        "id": "An5fi0elWtJl"
      },
      "execution_count": null,
      "outputs": []
    },
    {
      "cell_type": "markdown",
      "source": [
        "예측하고자 하는 것이 연속적인 값을 갖는 수치 형태가 아닌, 1 단위로 끊어지는 분류 문제이기 때문에\n",
        "\n",
        "category를 분류할 때 사용하는 LogisticRegression을 이용하여 진행"
      ],
      "metadata": {
        "id": "6R-J9sn1Xd0K"
      }
    },
    {
      "cell_type": "code",
      "source": [
        "from sklearn.linear_model import LogisticRegression #모델 불러오기\n",
        "model = LogisticRegression(max_iter=500) #객체에 모델 할당\n",
        "model.fit(X, y) #모델 학습"
      ],
      "metadata": {
        "id": "LTWPRWtvW5Lq"
      },
      "execution_count": null,
      "outputs": []
    },
    {
      "cell_type": "code",
      "source": [
        "from sklearn.metrics import accuracy_score\n",
        "\n",
        "#run model\n",
        "y_pred = model.predict(X[0])\n",
        "print('예측 라벨 : ', y_pred)\n",
        "print('실제 라벨 : ', train.target[0])"
      ],
      "metadata": {
        "id": "XrcvEk4gXgDY"
      },
      "execution_count": null,
      "outputs": []
    },
    {
      "cell_type": "markdown",
      "source": [
        "X의 첫번째 문장은 10번 카테고리 그룹으로 잘 학습되어 분류된 것을 확인"
      ],
      "metadata": {
        "id": "RqbqVkN4Xuss"
      }
    },
    {
      "cell_type": "code",
      "source": [
        "test_X = test.text #문서 데이터 생성\n",
        "\n",
        "test_X_vect = vectorizer.transform(test_X) #문서 데이터 transform \n",
        "#test 데이터를 대상으로 fit_transform 메소드를 실행하는 것은 test 데이터를 활용해 vectorizer 를 학습 시키는 것으롤 data leakage 에 해당합니다.\n",
        "\n",
        "pred = model.predict(test_X_vect) #test 데이터 예측\n",
        "print(pred)"
      ],
      "metadata": {
        "id": "ci7kUwb3XvEh"
      },
      "execution_count": null,
      "outputs": []
    },
    {
      "cell_type": "code",
      "source": [
        "submission = pd.read_csv(\"/content/drive/MyDrive/news/sample_submission.csv\") #제출용 파일 불러오기\n",
        "submission.head() #제출 파일이 잘 생성되었는지 확인"
      ],
      "metadata": {
        "id": "jI2bFJ5bX5Gm"
      },
      "execution_count": null,
      "outputs": []
    },
    {
      "cell_type": "code",
      "source": [
        "submission[\"target\"] = pred #예측 값 넣어주기\n",
        "submission.head() # 데이터가 잘 들어갔는지 확인합니다."
      ],
      "metadata": {
        "id": "GPXPNDCmX6na"
      },
      "execution_count": null,
      "outputs": []
    },
    {
      "cell_type": "code",
      "source": [
        "# submission을 csv 파일로 저장합니다.\n",
        "# index=False란 추가적인 id를 부여할 필요가 없다는 뜻입니다. \n",
        "# 정확한 채점을 위해 꼭 index=False를 넣어주세요.\n",
        "submission.to_csv(\"/content/drive/MyDrive/news/submission.csv\",index=False)"
      ],
      "metadata": {
        "id": "gFHT0yu1X9YC"
      },
      "execution_count": null,
      "outputs": []
    },
    {
      "cell_type": "markdown",
      "source": [
        "로지스틱 회귀\n",
        "\n",
        "로지스틱 회귀(Logistic Regression)는 회귀를 사용하여 데이터가 어떤 범주에 속할 확률을 0에서 1 사이의 값으로 예측하고 그 확률에 따라 가능성이 더 높은 범주에 속하는 것으로 분류해주는 지도 학습 알고리즘\n",
        "\n",
        "스팸 메일 분류기 같은 예시를 생각하면 쉽다. 어떤 메일을 받았을 때 그것이 스팸일 확률이 0.5 이상이면 spam으로 분류하고, 확률이 0.5보다 작은 경우 ham으로 분류하는 거다. 이렇게 데이터가 2개의 범주 중 하나에 속하도록 결정하는 것을 2진 분류(binary classification)라고 한다.\n"
      ],
      "metadata": {
        "id": "258wte6QHWrv"
      }
    },
    {
      "cell_type": "markdown",
      "source": [
        "선형회귀"
      ],
      "metadata": {
        "id": "cy8PKhN8HIi9"
      }
    },
    {
      "cell_type": "markdown",
      "source": [
        "![logreg01.png](data:image/png;base64,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)"
      ],
      "metadata": {
        "id": "ZnBm_zqYEcnk"
      }
    },
    {
      "cell_type": "markdown",
      "source": [
        "확률이 음과 양의 방향으로 무한대까지 "
      ],
      "metadata": {
        "id": "HKwmRgT5HOaj"
      }
    },
    {
      "cell_type": "markdown",
      "source": [
        "로지스틱 회귀"
      ],
      "metadata": {
        "id": "sM9zWnZYHKGV"
      }
    },
    {
      "cell_type": "markdown",
      "source": [
        "![logreg02.png](data:image/png;base64,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)"
      ],
      "metadata": {
        "id": "otoM8AacHBu9"
      }
    },
    {
      "cell_type": "markdown",
      "source": [
        "확률이 0과 1사이의 값"
      ],
      "metadata": {
        "id": "ydG22Eh3HS1k"
      }
    },
    {
      "cell_type": "markdown",
      "source": [
        "로지스틱 회귀에서는 데이터가 특정 범주에 속할 확률을 예측하기 위해 아래와 같은 단계를 거친다.\n",
        "\n",
        "1. 모든 속성(feature)들의 계수(coefficient)와 절편(intercept)을 0으로 초기화한다.\n",
        "2. 각 속성들의 값(value)에 계수(coefficient)를 곱해서 log-odds를 구한다.\n",
        "3. log-odds를 sigmoid 함수에 넣어서 [0,1] 범위의 확률을 구한다."
      ],
      "metadata": {
        "id": "xntlRdEoHgi5"
      }
    },
    {
      "cell_type": "markdown",
      "source": [
        "https://hleecaster.com/ml-logistic-regression-concept/"
      ],
      "metadata": {
        "id": "cr4laO7jHq7P"
      }
    },
    {
      "cell_type": "code",
      "source": [
        ""
      ],
      "metadata": {
        "id": "X-KeQerhHlHb"
      },
      "execution_count": null,
      "outputs": []
    }
  ]
}